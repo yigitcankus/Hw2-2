{
 "cells": [
  {
   "cell_type": "code",
   "execution_count": 7,
   "metadata": {},
   "outputs": [
    {
     "name": "stdout",
     "output_type": "stream",
     "text": [
      "Hafta başında 1000 dolarlık bitcoin aldığımızda günde ortalama %12 kazançla, \n",
      "         bir hafta sonunda 2210.68 dolar kazanırdık.\n"
     ]
    }
   ],
   "source": [
    "start=1000\n",
    "Ana_Para = 1000\n",
    "faiz = 12\n",
    "for i in range(7):\n",
    "    Ana_Para =  (Ana_Para*faiz/100) + Ana_Para\n",
    "print(\"\"\"Hafta başında {} dolarlık bitcoin aldığımızda günde ortalama %{} kazançla, \n",
    "         bir hafta sonunda {:.2f} dolar kazanırdık.\"\"\".format(start, faiz, Ana_Para))"
   ]
  },
  {
   "cell_type": "code",
   "execution_count": null,
   "metadata": {},
   "outputs": [],
   "source": [
    "dosya_Adi = input(\"Dosya adını giriniz: \") \n",
    "dosya_Adi = dosya_Adi + \".py\"\n",
    "print(dosya_Adi)"
   ]
  }
 ],
 "metadata": {
  "kernelspec": {
   "display_name": "Python 3",
   "language": "python",
   "name": "python3"
  },
  "language_info": {
   "codemirror_mode": {
    "name": "ipython",
    "version": 3
   },
   "file_extension": ".py",
   "mimetype": "text/x-python",
   "name": "python",
   "nbconvert_exporter": "python",
   "pygments_lexer": "ipython3",
   "version": "3.7.3"
  }
 },
 "nbformat": 4,
 "nbformat_minor": 4
}
